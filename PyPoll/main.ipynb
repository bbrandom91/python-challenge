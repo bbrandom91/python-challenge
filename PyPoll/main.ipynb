{
 "cells": [
  {
   "cell_type": "code",
   "execution_count": 1,
   "metadata": {
    "collapsed": true
   },
   "outputs": [],
   "source": [
    "import csv\n",
    "\n",
    "file = 'election_data_2.csv'\n",
    "#first create dictionary where key is candidate, value is number of votes\n",
    "tally = {}"
   ]
  },
  {
   "cell_type": "code",
   "execution_count": 3,
   "metadata": {
    "collapsed": true
   },
   "outputs": [],
   "source": [
    "#open the file in read mode and store the data in tally in the form {candidate : number_of_votes}\n",
    "with open(file, newline = '') as csvfile:\n",
    "    csvreader = csv.reader(csvfile, delimiter = ',')\n",
    "    first_row = next(csvreader)\n",
    "    for row in csvreader:\n",
    "        if row[2] in tally:\n",
    "            tally[row[2]] += 1\n",
    "        else:\n",
    "            tally[row[2]] = 1"
   ]
  },
  {
   "cell_type": "code",
   "execution_count": 6,
   "metadata": {},
   "outputs": [],
   "source": [
    "#initialize total number of votes and the winner of the election; the for loop finds the desired result\n",
    "total_votes = 0\n",
    "winner = ''\n",
    "\n",
    "for cand in tally:\n",
    "    total_votes += tally[cand]\n",
    "    if winner not in tally: #this if feels awkward\n",
    "        winner = cand\n",
    "    else:\n",
    "        if tally[cand] > tally[winner]:\n",
    "            winner = cand"
   ]
  },
  {
   "cell_type": "code",
   "execution_count": 13,
   "metadata": {},
   "outputs": [
    {
     "name": "stdout",
     "output_type": "stream",
     "text": [
      "Election Results\n",
      "______________________\n",
      "Total votes: 7042002\n",
      "______________________\n",
      "Khan: 63.0%     (4436462)\n",
      "Correy: 20.0%     (1408400)\n",
      "Li: 14.0%     (985880)\n",
      "O'Tooley: 3.0%     (211260)\n",
      "______________________\n",
      "Winner: Khan\n",
      "______________________\n"
     ]
    }
   ],
   "source": [
    "#Print out the election results to the terminal\n",
    "print(\"Election Results\")\n",
    "print(\"______________________\")\n",
    "print(\"Total votes: %d\"%(total_votes))\n",
    "print(\"______________________\")\n",
    "for cand in tally:\n",
    "    print(cand + \": \" + str(round(100.0 * float(tally[cand])/float(total_votes),2)) + \"%\" + \"     \" + \"(\" + str(tally[cand]) + \")\" )\n",
    "print(\"______________________\")\n",
    "print(\"Winner: \" + winner)\n",
    "print(\"______________________\")"
   ]
  },
  {
   "cell_type": "code",
   "execution_count": 12,
   "metadata": {},
   "outputs": [],
   "source": [
    "#Write the election results to a file\n",
    "with open('output.txt', 'w') as f:\n",
    "    f.flush()\n",
    "    f.write(\"Election Results\" + \"\\n\")\n",
    "    f.write(\"______________________\" + \"\\n\")\n",
    "    f.write(\"Total votes: %d\"%(total_votes) + \"\\n\")\n",
    "    f.write(\"______________________\" + \"\\n\")\n",
    "    for cand in tally:\n",
    "        f.write(cand + \": \" + str(round(100.0 * float(tally[cand])/float(total_votes),2)) + \"%\" + \"     \" + \"(\" + str(tally[cand]) + \")\" + \"\\n\" )\n",
    "        #print(\"%s: %f   (%d)\"%(cand, round(100.0 * float(tally[cand])/float(total_votes),2), tally[cand]   ) )\n",
    "    f.write(\"______________________\" + \"\\n\")\n",
    "    f.write(\"Winner: \" + winner + \"\\n\")\n",
    "    f.write(\"______________________\" +  \"\\n\")"
   ]
  },
  {
   "cell_type": "code",
   "execution_count": null,
   "metadata": {
    "collapsed": true
   },
   "outputs": [],
   "source": []
  }
 ],
 "metadata": {
  "kernelspec": {
   "display_name": "Python 3",
   "language": "python",
   "name": "python3"
  },
  "language_info": {
   "codemirror_mode": {
    "name": "ipython",
    "version": 3
   },
   "file_extension": ".py",
   "mimetype": "text/x-python",
   "name": "python",
   "nbconvert_exporter": "python",
   "pygments_lexer": "ipython3",
   "version": "3.6.2"
  }
 },
 "nbformat": 4,
 "nbformat_minor": 2
}
