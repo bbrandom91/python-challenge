{
 "cells": [
  {
   "cell_type": "code",
   "execution_count": 1,
   "metadata": {
    "collapsed": true
   },
   "outputs": [],
   "source": [
    "import csv\n",
    "#First thing we need is the file to open; let the user input it or hard code?\n",
    "file = 'budget_data_1.csv'\n",
    "\n",
    "#Initialize an empty list where we will store the data from the file\n",
    "data = []"
   ]
  },
  {
   "cell_type": "code",
   "execution_count": 3,
   "metadata": {},
   "outputs": [],
   "source": [
    "#Open the file in read mode and store the contents in data\n",
    "with open(file, newline = '') as csvfile:\n",
    "    csvreader = csv.reader(csvfile, delimiter = ',')\n",
    "    first_row = next(csvreader)\n",
    "    for row in csvreader:\n",
    "        row[1] = float(row[1]) #need to convert data in revenue column to a number\n",
    "        data.append(row)"
   ]
  },
  {
   "cell_type": "code",
   "execution_count": 4,
   "metadata": {
    "collapsed": true
   },
   "outputs": [],
   "source": [
    "#Initialize variables which will store values of interest\n",
    "total_rev = 0 #total revenue\n",
    "avg_rev = 0 #average monthly revenue; should this be average of difference from previous month? Then avg_rev ~ rev_final - rev_initial\n",
    "num_months = len(data) #number of months\n",
    "min_month = data[0][0] #month with lowest revenue\n",
    "max_month = data[0][0] #month with highest revenue\n",
    "diff_min = data[0][1] #revenue of month with lowest revenue\n",
    "diff_max = data[0][1] #revenue of month with highest revenue"
   ]
  },
  {
   "cell_type": "code",
   "execution_count": 6,
   "metadata": {
    "collapsed": true
   },
   "outputs": [],
   "source": [
    "#this for loop calculates total revenue, average revenue, and min and max months and revenue\n",
    "for rev in data:\n",
    "    total_rev += rev[1]\n",
    "    avg_rev += rev[1]/num_months\n",
    "    if rev[1] < diff_min:\n",
    "        min_month = rev[0]\n",
    "        diff_min = rev[1]\n",
    "    if rev[1] > diff_max:\n",
    "        max_month = rev[0]\n",
    "        diff_max = rev[1]"
   ]
  },
  {
   "cell_type": "code",
   "execution_count": 7,
   "metadata": {},
   "outputs": [
    {
     "name": "stdout",
     "output_type": "stream",
     "text": [
      "Financial Analysis\n",
      "________________________\n",
      "Total Months: 41\n",
      "Total Revenue: $37942824\n",
      "Average Revenue Change: $925434\n",
      "Greatest Increase in Revenue: Sep-15 ($1195111)\n",
      "Greatest Decrease in Revenue: Aug-14 ($-1172384)\n"
     ]
    }
   ],
   "source": [
    "#Printing to the terminal\n",
    "print(\"Financial Analysis\")\n",
    "print(\"________________________\")\n",
    "print(\"Total Months: %d\"%(num_months))\n",
    "print(\"Total Revenue: $%d\"%(total_rev))\n",
    "print(\"Average Revenue Change: $%d\"%(avg_rev))\n",
    "print(\"Greatest Increase in Revenue: %s ($%d)\"%(max_month,diff_max))\n",
    "print(\"Greatest Decrease in Revenue: %s ($%d)\"%(min_month,diff_min))"
   ]
  },
  {
   "cell_type": "code",
   "execution_count": 8,
   "metadata": {
    "collapsed": true
   },
   "outputs": [],
   "source": [
    "#writing to a file\n",
    "with open('output.txt', 'w') as f:\n",
    "    f.flush()\n",
    "    f.write(\"Financial Analysis\" + \"\\n\")\n",
    "    f.write(\"________________________\" + \"\\n\")\n",
    "    f.write(\"Total Months: %d\"%(num_months) + \"\\n\")\n",
    "    f.write(\"Total Revenue: $%d\"%(total_rev) + \"\\n\")\n",
    "    f.write(\"Average Revenue Change: $%d\"%(avg_rev) + \"\\n\")\n",
    "    f.write(\"Greatest Increase in Revenue: %s ($%d)\"%(max_month, diff_max) + \"\\n\")\n",
    "    f.write(\"Greatest Decrease in Revenue: %s ($%d)\"%(min_month, diff_min) + \"\\n\")"
   ]
  }
 ],
 "metadata": {
  "kernelspec": {
   "display_name": "Python 3",
   "language": "python",
   "name": "python3"
  },
  "language_info": {
   "codemirror_mode": {
    "name": "ipython",
    "version": 3
   },
   "file_extension": ".py",
   "mimetype": "text/x-python",
   "name": "python",
   "nbconvert_exporter": "python",
   "pygments_lexer": "ipython3",
   "version": "3.6.2"
  }
 },
 "nbformat": 4,
 "nbformat_minor": 2
}
